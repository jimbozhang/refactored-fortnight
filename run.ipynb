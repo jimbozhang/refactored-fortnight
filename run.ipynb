{
 "cells": [
  {
   "cell_type": "code",
   "execution_count": null,
   "metadata": {},
   "outputs": [],
   "source": [
    "from fetch_data_to_files import fetch_stock_id_names\n",
    "from search_stock_in_pattern import make_report\n",
    "\n",
    "from paths import STOCK_IDS_CSV, VOL_CSVS_DIR"
   ]
  },
  {
   "cell_type": "code",
   "execution_count": null,
   "metadata": {},
   "outputs": [],
   "source": [
    "ids = fetch_stock_id_names(STOCK_IDS_CSV)"
   ]
  },
  {
   "cell_type": "code",
   "execution_count": null,
   "metadata": {},
   "outputs": [],
   "source": [
    "report = make_report(ids, VOL_CSVS_DIR, time='2022-09-02 09:42:05')"
   ]
  },
  {
   "cell_type": "code",
   "execution_count": null,
   "metadata": {},
   "outputs": [],
   "source": [
    "report"
   ]
  }
 ],
 "metadata": {
  "kernelspec": {
   "display_name": "Python 3.10.4 ('venv': venv)",
   "language": "python",
   "name": "python3"
  },
  "language_info": {
   "codemirror_mode": {
    "name": "ipython",
    "version": 3
   },
   "file_extension": ".py",
   "mimetype": "text/x-python",
   "name": "python",
   "nbconvert_exporter": "python",
   "pygments_lexer": "ipython3",
   "version": "3.10.4"
  },
  "orig_nbformat": 4,
  "vscode": {
   "interpreter": {
    "hash": "731685ba5c9bca7d149777cfc36706be78e99773c7f38ed03fe831356de7c491"
   }
  }
 },
 "nbformat": 4,
 "nbformat_minor": 2
}
